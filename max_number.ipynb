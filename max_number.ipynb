{
 "cells": [
  {
   "cell_type": "code",
   "execution_count": 1,
   "metadata": {},
   "outputs": [
    {
     "name": "stdout",
     "output_type": "stream",
     "text": [
      "Enter a4\n",
      "Enter b5\n",
      "5 is greater\n"
     ]
    }
   ],
   "source": [
    "def max_num(a,b):\n",
    "    if (a>b):\n",
    "        max=a\n",
    "        print(max,\"is greater\")\n",
    "    else:\n",
    "        max=b\n",
    "        print(max,\"is greater\")\n",
    "        \n",
    "first= int(input(\"Enter a\"))\n",
    "second=int(input(\"Enter b\"))\n",
    "max_num(first,second)"
   ]
  },
  {
   "cell_type": "code",
   "execution_count": null,
   "metadata": {},
   "outputs": [],
   "source": []
  }
 ],
 "metadata": {
  "kernelspec": {
   "display_name": "Python 3",
   "language": "python",
   "name": "python3"
  },
  "language_info": {
   "codemirror_mode": {
    "name": "ipython",
    "version": 3
   },
   "file_extension": ".py",
   "mimetype": "text/x-python",
   "name": "python",
   "nbconvert_exporter": "python",
   "pygments_lexer": "ipython3",
   "version": "3.7.3"
  }
 },
 "nbformat": 4,
 "nbformat_minor": 2
}
